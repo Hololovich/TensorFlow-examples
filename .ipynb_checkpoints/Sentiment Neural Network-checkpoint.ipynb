{
 "cells": [
  {
   "cell_type": "code",
   "execution_count": 1,
   "metadata": {
    "collapsed": true
   },
   "outputs": [],
   "source": [
    "import tensorflow as tf\n",
    "from nltk.corpus import movie_reviews\n",
    "from nltk.stem import WordNetLemmatizer\n",
    "from collections import Counter\n",
    "import nltk\n",
    "import numpy as np\n",
    "import random"
   ]
  },
  {
   "cell_type": "code",
   "execution_count": 2,
   "metadata": {
    "collapsed": true
   },
   "outputs": [],
   "source": [
    "negids = movie_reviews.fileids('neg')\n",
    "posids = movie_reviews.fileids('pos')"
   ]
  },
  {
   "cell_type": "code",
   "execution_count": 3,
   "metadata": {},
   "outputs": [
    {
     "data": {
      "text/plain": [
       "901"
      ]
     },
     "execution_count": 3,
     "metadata": {},
     "output_type": "execute_result"
    }
   ],
   "source": [
    "len(movie_reviews.words(fileids=negids[4]))"
   ]
  },
  {
   "cell_type": "code",
   "execution_count": 4,
   "metadata": {},
   "outputs": [
    {
     "name": "stdout",
     "output_type": "stream",
     "text": [
      "['synopsis', ':', 'a', 'mentally', 'unstable', 'man', ...]\n"
     ]
    }
   ],
   "source": [
    "print(movie_reviews.words(fileids=negids[4]))"
   ]
  },
  {
   "cell_type": "code",
   "execution_count": 5,
   "metadata": {
    "collapsed": true
   },
   "outputs": [],
   "source": [
    "# лемматизация - приведение слова к ее нормальной форме\n",
    "lemmatizer = WordNetLemmatizer()"
   ]
  },
  {
   "cell_type": "code",
   "execution_count": 6,
   "metadata": {
    "collapsed": true
   },
   "outputs": [],
   "source": [
    "# собираем словарь для слов, встречающихся во всех текстах, и приводим их к нормальному виду\n",
    "def create_lexicon():\n",
    "    lexicon = movie_reviews.words(fileids=negids) + movie_reviews.words(fileids=posids)\n",
    "    lexicon = [lemmatizer.lemmatize(i) for i in lexicon]\n",
    "    word_counts = Counter(lexicon)\n",
    "    l2 = []\n",
    "    for w in word_counts:\n",
    "        if 5000 > word_counts[w] > 50:\n",
    "            l2.append(w)\n",
    "    print(len(l2))\n",
    "    return(l2)"
   ]
  },
  {
   "cell_type": "code",
   "execution_count": 7,
   "metadata": {
    "collapsed": true
   },
   "outputs": [],
   "source": [
    "# cобираем сэмплы, каждый сэмпл равен размеру словаря.\n",
    "# фичи в сэмпле - это количество слов словаря, встречающихся в тексте\n",
    "def sample_handling(sample_ids, lexicon, classification):\n",
    "    featureset = []\n",
    "    for ids in sample_ids:\n",
    "        # берем слова текста\n",
    "        words = movie_reviews.words(fileids=ids)\n",
    "        # приводим в нормальную форму\n",
    "        current_words = [lemmatizer.lemmatize(i) for i in words]\n",
    "        # считаем количество вхождений слов текста в словарь и генерируем сэмпл\n",
    "        features = np.zeros(len(lexicon))\n",
    "        for word in current_words:\n",
    "            if word in lexicon:\n",
    "                index_value = lexicon.index(word)\n",
    "                features[index_value] += 1\n",
    "        features = list(features)\n",
    "        \n",
    "        featureset.append([features, classification])\n",
    "    \n",
    "    print(len(featureset))\n",
    "        \n",
    "    return featureset"
   ]
  },
  {
   "cell_type": "code",
   "execution_count": 8,
   "metadata": {
    "collapsed": true
   },
   "outputs": [],
   "source": [
    "# генерация всего датасета\n",
    "def create_feature_sets_and_labels(pos, neg, test_size = 0.1):\n",
    "    lexicon = create_lexicon()\n",
    "    features = []\n",
    "    features += sample_handling(pos, lexicon, [1,0])\n",
    "    features += sample_handling(neg, lexicon, [0,1])\n",
    "    random.shuffle(features)\n",
    "    \n",
    "    features = np.array(features)\n",
    "    \n",
    "    testing_size = int(len(features) * test_size)\n",
    "    \n",
    "    x_train = list(features[:,0][:-testing_size])\n",
    "    y_train = list(features[:,1][:-testing_size])\n",
    "    \n",
    "    x_test = list(features[:,0][-testing_size:])\n",
    "    y_test = list(features[:,1][-testing_size:])\n",
    "    \n",
    "    return x_train, y_train, x_test, y_test"
   ]
  },
  {
   "cell_type": "code",
   "execution_count": 9,
   "metadata": {},
   "outputs": [
    {
     "name": "stdout",
     "output_type": "stream",
     "text": [
      "2531\n",
      "1000\n",
      "1000\n"
     ]
    }
   ],
   "source": [
    "x_train, y_train, x_test, y_test = create_feature_sets_and_labels(posids, negids, test_size = 0.1)"
   ]
  },
  {
   "cell_type": "code",
   "execution_count": 10,
   "metadata": {},
   "outputs": [
    {
     "data": {
      "text/plain": [
       "2531"
      ]
     },
     "execution_count": 10,
     "metadata": {},
     "output_type": "execute_result"
    }
   ],
   "source": [
    "len(x_train[1])"
   ]
  },
  {
   "cell_type": "code",
   "execution_count": 11,
   "metadata": {
    "collapsed": true
   },
   "outputs": [],
   "source": [
    "n_nodes_1 = 2500\n",
    "n_nodes_2 = 1000\n",
    "n_nodes_3 = 500\n",
    "n_nodes_4 = 500"
   ]
  },
  {
   "cell_type": "code",
   "execution_count": 12,
   "metadata": {
    "collapsed": true
   },
   "outputs": [],
   "source": [
    "n_classes = 2\n",
    "batch_size = 100"
   ]
  },
  {
   "cell_type": "code",
   "execution_count": 13,
   "metadata": {
    "collapsed": true
   },
   "outputs": [],
   "source": [
    "# hight * width\n",
    "x = tf.placeholder('float',[None, len(x_train[0])])\n",
    "y = tf.placeholder('float')"
   ]
  },
  {
   "cell_type": "code",
   "execution_count": 14,
   "metadata": {
    "collapsed": true
   },
   "outputs": [],
   "source": [
    "def NN_model(data):\n",
    "    # imput_data * weights + biases\n",
    "    hidden_1_layer = {'weights':tf.Variable(tf.random_normal([len(x_train[0]), n_nodes_1])),\n",
    "                      'biases':tf.Variable(tf.random_normal([n_nodes_1]))}\n",
    "    \n",
    "    hidden_2_layer = {'weights':tf.Variable(tf.random_normal([n_nodes_1, n_nodes_2])),\n",
    "                      'biases':tf.Variable(tf.random_normal([n_nodes_2]))}\n",
    "\n",
    "    output_layer =   {'weights':tf.Variable(tf.random_normal([n_nodes_2, n_classes])),\n",
    "                      'biases':tf.Variable(tf.random_normal([n_classes]))}\n",
    "    \n",
    "    # layer1 = relu(imput_data * weights_1 + biases_1)\n",
    "    l1 = tf.add(tf.matmul(data, hidden_1_layer['weights']), hidden_1_layer['biases'])\n",
    "    l1 = tf.nn.relu(l1)\n",
    "    \n",
    "    # layer2 = relu(layer_1 * weights_2 + biases_2)\n",
    "    l2 = tf.add(tf.matmul(l1, hidden_2_layer['weights']), hidden_2_layer['biases'])\n",
    "    l2 = tf.nn.relu(l2)\n",
    "    \n",
    "    # output = layer_2 * weights_output + biases_output\n",
    "    output = tf.matmul(l2, output_layer['weights']) + output_layer['biases']\n",
    "    \n",
    "    return output\n",
    "    "
   ]
  },
  {
   "cell_type": "code",
   "execution_count": 15,
   "metadata": {},
   "outputs": [
    {
     "name": "stdout",
     "output_type": "stream",
     "text": [
      "WARNING:tensorflow:From C:\\ProgramData\\Anaconda3\\envs\\py36\\lib\\site-packages\\tensorflow\\python\\util\\tf_should_use.py:107: initialize_all_variables (from tensorflow.python.ops.variables) is deprecated and will be removed after 2017-03-02.\n",
      "Instructions for updating:\n",
      "Use `tf.global_variables_initializer` instead.\n",
      "epoch 0 complited out of 20 loss: 137045.237793\n",
      "epoch 1 complited out of 20 loss: 45687.5255127\n",
      "epoch 2 complited out of 20 loss: 16427.8270264\n",
      "epoch 3 complited out of 20 loss: 8195.83482361\n",
      "epoch 4 complited out of 20 loss: 6117.39791107\n",
      "epoch 5 complited out of 20 loss: 5853.35428572\n",
      "epoch 6 complited out of 20 loss: 10751.1024132\n",
      "epoch 7 complited out of 20 loss: 4911.11160851\n",
      "epoch 8 complited out of 20 loss: 23312.4387531\n",
      "epoch 9 complited out of 20 loss: 41299.6495662\n",
      "epoch 10 complited out of 20 loss: 52579.8607895\n",
      "epoch 11 complited out of 20 loss: 16431.1257191\n",
      "epoch 12 complited out of 20 loss: 3527.59813309\n",
      "epoch 13 complited out of 20 loss: 142.419630051\n",
      "epoch 14 complited out of 20 loss: 0.0\n",
      "epoch 15 complited out of 20 loss: 0.0\n",
      "epoch 16 complited out of 20 loss: 0.0\n",
      "epoch 17 complited out of 20 loss: 0.0\n",
      "epoch 18 complited out of 20 loss: 0.0\n",
      "epoch 19 complited out of 20 loss: 0.0\n",
      "accuracy: 0.805\n"
     ]
    }
   ],
   "source": [
    "def train_NN(x):\n",
    "    predict = NN_model(x)\n",
    "    # softmax нормализует полученные веса output слоя(сумма всех значений = 1)\n",
    "    # cross_entropy_with_logits высчитывает ошибку для многоклассовой классификации\n",
    "    # ошибка вычисляется как distance(softmax(outputs), Labels)) = -summ(Labels * log(outputs))\n",
    "    # нaм нужно минимизировать эту ошибку\n",
    "    cost = tf.reduce_mean(tf.nn.softmax_cross_entropy_with_logits(logits = predict, labels = y))\n",
    "    \n",
    "    # оптимизатор(улучшенный стохастический градиентный спуск)\n",
    "    optimizer = tf.train.AdamOptimizer().minimize(cost)\n",
    "    \n",
    "    epochs = 20\n",
    "    \n",
    "    with tf.Session() as session:\n",
    "        # инициализируем граф со всеми переменными\n",
    "        session.close()\n",
    "        session.run(tf.initialize_all_variables())\n",
    "        \n",
    "        for epoch in range(epochs):\n",
    "            epoch_loss = 0\n",
    "            \n",
    "            i = 0\n",
    "            while i < len(x_train):\n",
    "                start = i\n",
    "                end = i + batch_size\n",
    "                epoch_x = np.array(x_train[start:end])\n",
    "                epoch_y = np.array(y_train[start:end])\n",
    "                # на каждой эпохе оптимизируем ошибку для каждой части выборки \n",
    "                _, c = session.run([optimizer, cost], feed_dict={x:epoch_x, y:epoch_y})\n",
    "                epoch_loss += c\n",
    "                i += batch_size\n",
    "            print('epoch', epoch, 'complited out of', epochs, 'loss:', epoch_loss)\n",
    "       \n",
    "        # считаем метрику accuracy\n",
    "        correct = tf.equal(tf.argmax(predict, 1), tf.argmax(y, 1))\n",
    "        \n",
    "        accuracy = tf.reduce_mean(tf.cast(correct,'float'))\n",
    "        print( 'accuracy:', accuracy.eval({x:x_test, y:y_test}))\n",
    "            \n",
    "train_NN(x)"
   ]
  }
 ],
 "metadata": {
  "kernelspec": {
   "display_name": "Python 3",
   "language": "python",
   "name": "python3"
  },
  "language_info": {
   "codemirror_mode": {
    "name": "ipython",
    "version": 3
   },
   "file_extension": ".py",
   "mimetype": "text/x-python",
   "name": "python",
   "nbconvert_exporter": "python",
   "pygments_lexer": "ipython3",
   "version": "3.6.3"
  }
 },
 "nbformat": 4,
 "nbformat_minor": 2
}
