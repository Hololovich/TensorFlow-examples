{
 "cells": [
  {
   "cell_type": "markdown",
   "metadata": {},
   "source": [
    "### Пример простой глубокой сети прямого распространения для классификации MNIST"
   ]
  },
  {
   "cell_type": "code",
   "execution_count": 1,
   "metadata": {
    "collapsed": true
   },
   "outputs": [],
   "source": [
    "import tensorflow as tf"
   ]
  },
  {
   "cell_type": "code",
   "execution_count": 2,
   "metadata": {
    "collapsed": true
   },
   "outputs": [],
   "source": [
    "from tensorflow.examples.tutorials.mnist import input_data"
   ]
  },
  {
   "cell_type": "code",
   "execution_count": 3,
   "metadata": {},
   "outputs": [
    {
     "name": "stdout",
     "output_type": "stream",
     "text": [
      "Extracting /tmp/data/train-images-idx3-ubyte.gz\n",
      "Extracting /tmp/data/train-labels-idx1-ubyte.gz\n",
      "Extracting /tmp/data/t10k-images-idx3-ubyte.gz\n",
      "Extracting /tmp/data/t10k-labels-idx1-ubyte.gz\n"
     ]
    }
   ],
   "source": [
    "mnist = input_data.read_data_sets('/tmp/data/', one_hot = True)"
   ]
  },
  {
   "cell_type": "code",
   "execution_count": 4,
   "metadata": {
    "collapsed": true
   },
   "outputs": [],
   "source": [
    "n_nodes_1 = 500\n",
    "n_nodes_2 = 500\n",
    "n_nodes_3 = 500\n",
    "n_nodes_4 = 500"
   ]
  },
  {
   "cell_type": "code",
   "execution_count": 5,
   "metadata": {
    "collapsed": true
   },
   "outputs": [],
   "source": [
    "n_classes = 10\n",
    "batch_size = 100"
   ]
  },
  {
   "cell_type": "code",
   "execution_count": 6,
   "metadata": {
    "collapsed": true
   },
   "outputs": [],
   "source": [
    "# hight * width\n",
    "x = tf.placeholder('float',[None, 784])\n",
    "y = tf.placeholder('float')"
   ]
  },
  {
   "cell_type": "code",
   "execution_count": 7,
   "metadata": {
    "collapsed": true
   },
   "outputs": [],
   "source": [
    "def NN_model(data):\n",
    "    # imput_data * weights + biases\n",
    "    hidden_1_layer = {'weights':tf.Variable(tf.random_normal([784, n_nodes_1])),\n",
    "                      'biases':tf.Variable(tf.random_normal([n_nodes_1]))}\n",
    "    hidden_2_layer = {'weights':tf.Variable(tf.random_normal([n_nodes_1, n_nodes_2])),\n",
    "                      'biases':tf.Variable(tf.random_normal([n_nodes_2]))}\n",
    "    hidden_3_layer = {'weights':tf.Variable(tf.random_normal([n_nodes_2, n_nodes_3])),\n",
    "                      'biases':tf.Variable(tf.random_normal([n_nodes_3]))}\n",
    "    hidden_4_layer = {'weights':tf.Variable(tf.random_normal([n_nodes_3, n_nodes_4])),\n",
    "                      'biases':tf.Variable(tf.random_normal([n_nodes_4]))}\n",
    "    output_layer =   {'weights':tf.Variable(tf.random_normal([n_nodes_4, n_classes])),\n",
    "                      'biases':tf.Variable(tf.random_normal([n_classes]))}\n",
    "    \n",
    "    # layer1 = relu(imput_data * weights_1 + biases_1)\n",
    "    l1 = tf.add(tf.matmul(data, hidden_1_layer['weights']), hidden_1_layer['biases'])\n",
    "    l1 = tf.nn.relu(l1)\n",
    "    \n",
    "    # layer2 = relu(layer_1 * weights_2 + biases_2)\n",
    "    l2 = tf.add(tf.matmul(l1, hidden_2_layer['weights']), hidden_2_layer['biases'])\n",
    "    l2 = tf.nn.relu(l2)\n",
    "    \n",
    "    # layer3 = relu(layer_2 * weights_3 + biases_3)\n",
    "    l3 = tf.add(tf.matmul(l2, hidden_3_layer['weights']), hidden_3_layer['biases'])\n",
    "    l3 = tf.nn.relu(l3)\n",
    "    \n",
    "    # layer4 = relu(layer_3 * weights_4 + biases_4)\n",
    "    l4 = tf.add(tf.matmul(l3, hidden_4_layer['weights']), hidden_4_layer['biases'])\n",
    "    l4 = tf.nn.relu(l4)\n",
    "    \n",
    "    # output = layer_4 * weights_output + biases_output\n",
    "    output = tf.matmul(l4, output_layer['weights']) + output_layer['biases']\n",
    "    \n",
    "    return output\n",
    "    "
   ]
  },
  {
   "cell_type": "code",
   "execution_count": 9,
   "metadata": {},
   "outputs": [
    {
     "name": "stdout",
     "output_type": "stream",
     "text": [
      "epoch 0 complited out of 10 loss: 22836060.9495\n",
      "epoch 1 complited out of 10 loss: 5084382.87796\n",
      "epoch 2 complited out of 10 loss: 2607052.54524\n",
      "epoch 3 complited out of 10 loss: 1517921.46337\n",
      "epoch 4 complited out of 10 loss: 898453.53627\n",
      "epoch 5 complited out of 10 loss: 584256.217864\n",
      "epoch 6 complited out of 10 loss: 403822.820334\n",
      "epoch 7 complited out of 10 loss: 355662.847492\n",
      "epoch 8 complited out of 10 loss: 337601.965196\n",
      "epoch 9 complited out of 10 loss: 345607.649585\n",
      "accuracy: 0.951\n"
     ]
    }
   ],
   "source": [
    "def train_NN(x):\n",
    "    predict = NN_model(x)\n",
    "    # softmax нормализует полученные веса output слоя(сумма всех значений = 1)\n",
    "    # cross_entropy_with_logits высчитывает ошибку для многоклассовой классификации\n",
    "    # ошибка вычисляется как distance(softmax(outputs), Labels)) = -summ(Labels * log(outputs))\n",
    "    # нaм нужно минимизировать эту ошибку\n",
    "    cost = tf.reduce_mean(tf.nn.softmax_cross_entropy_with_logits(logits = predict, labels = y))\n",
    "    \n",
    "    # оптимизатор(улучшенный стохастический градиентный спуск)\n",
    "    optimizer = tf.train.AdamOptimizer().minimize(cost)\n",
    "    \n",
    "    epochs = 10\n",
    "    \n",
    "    with tf.Session() as session:\n",
    "        # инициализируем граф со всеми переменными\n",
    "        session.run(tf.initialize_all_variables())\n",
    "        \n",
    "        for epoch in range(epochs):\n",
    "            epoch_loss = 0\n",
    "            for _ in range(int(mnist.train.num_examples/batch_size)):\n",
    "                epoch_x, epoch_y = mnist.train.next_batch(batch_size)\n",
    "                # на каждой эпохе оптимизируем ошибку для каждой части выборки \n",
    "                _, c = session.run([optimizer, cost], feed_dict={x:epoch_x, y:epoch_y})\n",
    "                epoch_loss += c\n",
    "            print('epoch', epoch, 'complited out of', epochs, 'loss:', epoch_loss)\n",
    "       \n",
    "        # считаем метрику accuracy\n",
    "        correct = tf.equal(tf.argmax(predict, 1), tf.argmax(y, 1))\n",
    "        \n",
    "        accuracy = tf.reduce_mean(tf.cast(correct,'float'))\n",
    "        print( 'accuracy:', accuracy.eval({x:mnist.test.images, y:mnist.test.labels}))\n",
    "            \n",
    "train_NN(x)"
   ]
  }
 ],
 "metadata": {
  "kernelspec": {
   "display_name": "Python 3",
   "language": "python",
   "name": "python3"
  },
  "language_info": {
   "codemirror_mode": {
    "name": "ipython",
    "version": 3
   },
   "file_extension": ".py",
   "mimetype": "text/x-python",
   "name": "python",
   "nbconvert_exporter": "python",
   "pygments_lexer": "ipython3",
   "version": "3.6.3"
  }
 },
 "nbformat": 4,
 "nbformat_minor": 2
}
